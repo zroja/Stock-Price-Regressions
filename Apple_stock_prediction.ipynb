{
  "nbformat": 4,
  "nbformat_minor": 0,
  "metadata": {
    "colab": {
      "name": "Apple stock prediction.ipynb",
      "provenance": []
    },
    "kernelspec": {
      "name": "python3",
      "display_name": "Python 3"
    }
  },
  "cells": [
    {
      "cell_type": "code",
      "metadata": {
        "id": "uGrwR5qJYIDU",
        "colab_type": "code",
        "colab": {}
      },
      "source": [
        "import numpy as np\n",
        "import pandas as pd\n",
        "from sklearn.tree import DecisionTreeRegressor\n",
        "from sklearn.linear_model import LinearRegression\n",
        "from sklearn.model_selection import train_test_split \n",
        "import matplotlib.pyplot as plt\n",
        "plt.style.use('bmh')"
      ],
      "execution_count": null,
      "outputs": []
    },
    {
      "cell_type": "code",
      "metadata": {
        "id": "RY6v3pAeZZUg",
        "colab_type": "code",
        "colab": {
          "resources": {
            "http://localhost:8080/nbextensions/google.colab/files.js": {
              "data": "Ly8gQ29weXJpZ2h0IDIwMTcgR29vZ2xlIExMQwovLwovLyBMaWNlbnNlZCB1bmRlciB0aGUgQXBhY2hlIExpY2Vuc2UsIFZlcnNpb24gMi4wICh0aGUgIkxpY2Vuc2UiKTsKLy8geW91IG1heSBub3QgdXNlIHRoaXMgZmlsZSBleGNlcHQgaW4gY29tcGxpYW5jZSB3aXRoIHRoZSBMaWNlbnNlLgovLyBZb3UgbWF5IG9idGFpbiBhIGNvcHkgb2YgdGhlIExpY2Vuc2UgYXQKLy8KLy8gICAgICBodHRwOi8vd3d3LmFwYWNoZS5vcmcvbGljZW5zZXMvTElDRU5TRS0yLjAKLy8KLy8gVW5sZXNzIHJlcXVpcmVkIGJ5IGFwcGxpY2FibGUgbGF3IG9yIGFncmVlZCB0byBpbiB3cml0aW5nLCBzb2Z0d2FyZQovLyBkaXN0cmlidXRlZCB1bmRlciB0aGUgTGljZW5zZSBpcyBkaXN0cmlidXRlZCBvbiBhbiAiQVMgSVMiIEJBU0lTLAovLyBXSVRIT1VUIFdBUlJBTlRJRVMgT1IgQ09ORElUSU9OUyBPRiBBTlkgS0lORCwgZWl0aGVyIGV4cHJlc3Mgb3IgaW1wbGllZC4KLy8gU2VlIHRoZSBMaWNlbnNlIGZvciB0aGUgc3BlY2lmaWMgbGFuZ3VhZ2UgZ292ZXJuaW5nIHBlcm1pc3Npb25zIGFuZAovLyBsaW1pdGF0aW9ucyB1bmRlciB0aGUgTGljZW5zZS4KCi8qKgogKiBAZmlsZW92ZXJ2aWV3IEhlbHBlcnMgZm9yIGdvb2dsZS5jb2xhYiBQeXRob24gbW9kdWxlLgogKi8KKGZ1bmN0aW9uKHNjb3BlKSB7CmZ1bmN0aW9uIHNwYW4odGV4dCwgc3R5bGVBdHRyaWJ1dGVzID0ge30pIHsKICBjb25zdCBlbGVtZW50ID0gZG9jdW1lbnQuY3JlYXRlRWxlbWVudCgnc3BhbicpOwogIGVsZW1lbnQudGV4dENvbnRlbnQgPSB0ZXh0OwogIGZvciAoY29uc3Qga2V5IG9mIE9iamVjdC5rZXlzKHN0eWxlQXR0cmlidXRlcykpIHsKICAgIGVsZW1lbnQuc3R5bGVba2V5XSA9IHN0eWxlQXR0cmlidXRlc1trZXldOwogIH0KICByZXR1cm4gZWxlbWVudDsKfQoKLy8gTWF4IG51bWJlciBvZiBieXRlcyB3aGljaCB3aWxsIGJlIHVwbG9hZGVkIGF0IGEgdGltZS4KY29uc3QgTUFYX1BBWUxPQURfU0laRSA9IDEwMCAqIDEwMjQ7CgpmdW5jdGlvbiBfdXBsb2FkRmlsZXMoaW5wdXRJZCwgb3V0cHV0SWQpIHsKICBjb25zdCBzdGVwcyA9IHVwbG9hZEZpbGVzU3RlcChpbnB1dElkLCBvdXRwdXRJZCk7CiAgY29uc3Qgb3V0cHV0RWxlbWVudCA9IGRvY3VtZW50LmdldEVsZW1lbnRCeUlkKG91dHB1dElkKTsKICAvLyBDYWNoZSBzdGVwcyBvbiB0aGUgb3V0cHV0RWxlbWVudCB0byBtYWtlIGl0IGF2YWlsYWJsZSBmb3IgdGhlIG5leHQgY2FsbAogIC8vIHRvIHVwbG9hZEZpbGVzQ29udGludWUgZnJvbSBQeXRob24uCiAgb3V0cHV0RWxlbWVudC5zdGVwcyA9IHN0ZXBzOwoKICByZXR1cm4gX3VwbG9hZEZpbGVzQ29udGludWUob3V0cHV0SWQpOwp9CgovLyBUaGlzIGlzIHJvdWdobHkgYW4gYXN5bmMgZ2VuZXJhdG9yIChub3Qgc3VwcG9ydGVkIGluIHRoZSBicm93c2VyIHlldCksCi8vIHdoZXJlIHRoZXJlIGFyZSBtdWx0aXBsZSBhc3luY2hyb25vdXMgc3RlcHMgYW5kIHRoZSBQeXRob24gc2lkZSBpcyBnb2luZwovLyB0byBwb2xsIGZvciBjb21wbGV0aW9uIG9mIGVhY2ggc3RlcC4KLy8gVGhpcyB1c2VzIGEgUHJvbWlzZSB0byBibG9jayB0aGUgcHl0aG9uIHNpZGUgb24gY29tcGxldGlvbiBvZiBlYWNoIHN0ZXAsCi8vIHRoZW4gcGFzc2VzIHRoZSByZXN1bHQgb2YgdGhlIHByZXZpb3VzIHN0ZXAgYXMgdGhlIGlucHV0IHRvIHRoZSBuZXh0IHN0ZXAuCmZ1bmN0aW9uIF91cGxvYWRGaWxlc0NvbnRpbnVlKG91dHB1dElkKSB7CiAgY29uc3Qgb3V0cHV0RWxlbWVudCA9IGRvY3VtZW50LmdldEVsZW1lbnRCeUlkKG91dHB1dElkKTsKICBjb25zdCBzdGVwcyA9IG91dHB1dEVsZW1lbnQuc3RlcHM7CgogIGNvbnN0IG5leHQgPSBzdGVwcy5uZXh0KG91dHB1dEVsZW1lbnQubGFzdFByb21pc2VWYWx1ZSk7CiAgcmV0dXJuIFByb21pc2UucmVzb2x2ZShuZXh0LnZhbHVlLnByb21pc2UpLnRoZW4oKHZhbHVlKSA9PiB7CiAgICAvLyBDYWNoZSB0aGUgbGFzdCBwcm9taXNlIHZhbHVlIHRvIG1ha2UgaXQgYXZhaWxhYmxlIHRvIHRoZSBuZXh0CiAgICAvLyBzdGVwIG9mIHRoZSBnZW5lcmF0b3IuCiAgICBvdXRwdXRFbGVtZW50Lmxhc3RQcm9taXNlVmFsdWUgPSB2YWx1ZTsKICAgIHJldHVybiBuZXh0LnZhbHVlLnJlc3BvbnNlOwogIH0pOwp9CgovKioKICogR2VuZXJhdG9yIGZ1bmN0aW9uIHdoaWNoIGlzIGNhbGxlZCBiZXR3ZWVuIGVhY2ggYXN5bmMgc3RlcCBvZiB0aGUgdXBsb2FkCiAqIHByb2Nlc3MuCiAqIEBwYXJhbSB7c3RyaW5nfSBpbnB1dElkIEVsZW1lbnQgSUQgb2YgdGhlIGlucHV0IGZpbGUgcGlja2VyIGVsZW1lbnQuCiAqIEBwYXJhbSB7c3RyaW5nfSBvdXRwdXRJZCBFbGVtZW50IElEIG9mIHRoZSBvdXRwdXQgZGlzcGxheS4KICogQHJldHVybiB7IUl0ZXJhYmxlPCFPYmplY3Q+fSBJdGVyYWJsZSBvZiBuZXh0IHN0ZXBzLgogKi8KZnVuY3Rpb24qIHVwbG9hZEZpbGVzU3RlcChpbnB1dElkLCBvdXRwdXRJZCkgewogIGNvbnN0IGlucHV0RWxlbWVudCA9IGRvY3VtZW50LmdldEVsZW1lbnRCeUlkKGlucHV0SWQpOwogIGlucHV0RWxlbWVudC5kaXNhYmxlZCA9IGZhbHNlOwoKICBjb25zdCBvdXRwdXRFbGVtZW50ID0gZG9jdW1lbnQuZ2V0RWxlbWVudEJ5SWQob3V0cHV0SWQpOwogIG91dHB1dEVsZW1lbnQuaW5uZXJIVE1MID0gJyc7CgogIGNvbnN0IHBpY2tlZFByb21pc2UgPSBuZXcgUHJvbWlzZSgocmVzb2x2ZSkgPT4gewogICAgaW5wdXRFbGVtZW50LmFkZEV2ZW50TGlzdGVuZXIoJ2NoYW5nZScsIChlKSA9PiB7CiAgICAgIHJlc29sdmUoZS50YXJnZXQuZmlsZXMpOwogICAgfSk7CiAgfSk7CgogIGNvbnN0IGNhbmNlbCA9IGRvY3VtZW50LmNyZWF0ZUVsZW1lbnQoJ2J1dHRvbicpOwogIGlucHV0RWxlbWVudC5wYXJlbnRFbGVtZW50LmFwcGVuZENoaWxkKGNhbmNlbCk7CiAgY2FuY2VsLnRleHRDb250ZW50ID0gJ0NhbmNlbCB1cGxvYWQnOwogIGNvbnN0IGNhbmNlbFByb21pc2UgPSBuZXcgUHJvbWlzZSgocmVzb2x2ZSkgPT4gewogICAgY2FuY2VsLm9uY2xpY2sgPSAoKSA9PiB7CiAgICAgIHJlc29sdmUobnVsbCk7CiAgICB9OwogIH0pOwoKICAvLyBXYWl0IGZvciB0aGUgdXNlciB0byBwaWNrIHRoZSBmaWxlcy4KICBjb25zdCBmaWxlcyA9IHlpZWxkIHsKICAgIHByb21pc2U6IFByb21pc2UucmFjZShbcGlja2VkUHJvbWlzZSwgY2FuY2VsUHJvbWlzZV0pLAogICAgcmVzcG9uc2U6IHsKICAgICAgYWN0aW9uOiAnc3RhcnRpbmcnLAogICAgfQogIH07CgogIGNhbmNlbC5yZW1vdmUoKTsKCiAgLy8gRGlzYWJsZSB0aGUgaW5wdXQgZWxlbWVudCBzaW5jZSBmdXJ0aGVyIHBpY2tzIGFyZSBub3QgYWxsb3dlZC4KICBpbnB1dEVsZW1lbnQuZGlzYWJsZWQgPSB0cnVlOwoKICBpZiAoIWZpbGVzKSB7CiAgICByZXR1cm4gewogICAgICByZXNwb25zZTogewogICAgICAgIGFjdGlvbjogJ2NvbXBsZXRlJywKICAgICAgfQogICAgfTsKICB9CgogIGZvciAoY29uc3QgZmlsZSBvZiBmaWxlcykgewogICAgY29uc3QgbGkgPSBkb2N1bWVudC5jcmVhdGVFbGVtZW50KCdsaScpOwogICAgbGkuYXBwZW5kKHNwYW4oZmlsZS5uYW1lLCB7Zm9udFdlaWdodDogJ2JvbGQnfSkpOwogICAgbGkuYXBwZW5kKHNwYW4oCiAgICAgICAgYCgke2ZpbGUudHlwZSB8fCAnbi9hJ30pIC0gJHtmaWxlLnNpemV9IGJ5dGVzLCBgICsKICAgICAgICBgbGFzdCBtb2RpZmllZDogJHsKICAgICAgICAgICAgZmlsZS5sYXN0TW9kaWZpZWREYXRlID8gZmlsZS5sYXN0TW9kaWZpZWREYXRlLnRvTG9jYWxlRGF0ZVN0cmluZygpIDoKICAgICAgICAgICAgICAgICAgICAgICAgICAgICAgICAgICAgJ24vYSd9IC0gYCkpOwogICAgY29uc3QgcGVyY2VudCA9IHNwYW4oJzAlIGRvbmUnKTsKICAgIGxpLmFwcGVuZENoaWxkKHBlcmNlbnQpOwoKICAgIG91dHB1dEVsZW1lbnQuYXBwZW5kQ2hpbGQobGkpOwoKICAgIGNvbnN0IGZpbGVEYXRhUHJvbWlzZSA9IG5ldyBQcm9taXNlKChyZXNvbHZlKSA9PiB7CiAgICAgIGNvbnN0IHJlYWRlciA9IG5ldyBGaWxlUmVhZGVyKCk7CiAgICAgIHJlYWRlci5vbmxvYWQgPSAoZSkgPT4gewogICAgICAgIHJlc29sdmUoZS50YXJnZXQucmVzdWx0KTsKICAgICAgfTsKICAgICAgcmVhZGVyLnJlYWRBc0FycmF5QnVmZmVyKGZpbGUpOwogICAgfSk7CiAgICAvLyBXYWl0IGZvciB0aGUgZGF0YSB0byBiZSByZWFkeS4KICAgIGxldCBmaWxlRGF0YSA9IHlpZWxkIHsKICAgICAgcHJvbWlzZTogZmlsZURhdGFQcm9taXNlLAogICAgICByZXNwb25zZTogewogICAgICAgIGFjdGlvbjogJ2NvbnRpbnVlJywKICAgICAgfQogICAgfTsKCiAgICAvLyBVc2UgYSBjaHVua2VkIHNlbmRpbmcgdG8gYXZvaWQgbWVzc2FnZSBzaXplIGxpbWl0cy4gU2VlIGIvNjIxMTU2NjAuCiAgICBsZXQgcG9zaXRpb24gPSAwOwogICAgd2hpbGUgKHBvc2l0aW9uIDwgZmlsZURhdGEuYnl0ZUxlbmd0aCkgewogICAgICBjb25zdCBsZW5ndGggPSBNYXRoLm1pbihmaWxlRGF0YS5ieXRlTGVuZ3RoIC0gcG9zaXRpb24sIE1BWF9QQVlMT0FEX1NJWkUpOwogICAgICBjb25zdCBjaHVuayA9IG5ldyBVaW50OEFycmF5KGZpbGVEYXRhLCBwb3NpdGlvbiwgbGVuZ3RoKTsKICAgICAgcG9zaXRpb24gKz0gbGVuZ3RoOwoKICAgICAgY29uc3QgYmFzZTY0ID0gYnRvYShTdHJpbmcuZnJvbUNoYXJDb2RlLmFwcGx5KG51bGwsIGNodW5rKSk7CiAgICAgIHlpZWxkIHsKICAgICAgICByZXNwb25zZTogewogICAgICAgICAgYWN0aW9uOiAnYXBwZW5kJywKICAgICAgICAgIGZpbGU6IGZpbGUubmFtZSwKICAgICAgICAgIGRhdGE6IGJhc2U2NCwKICAgICAgICB9LAogICAgICB9OwogICAgICBwZXJjZW50LnRleHRDb250ZW50ID0KICAgICAgICAgIGAke01hdGgucm91bmQoKHBvc2l0aW9uIC8gZmlsZURhdGEuYnl0ZUxlbmd0aCkgKiAxMDApfSUgZG9uZWA7CiAgICB9CiAgfQoKICAvLyBBbGwgZG9uZS4KICB5aWVsZCB7CiAgICByZXNwb25zZTogewogICAgICBhY3Rpb246ICdjb21wbGV0ZScsCiAgICB9CiAgfTsKfQoKc2NvcGUuZ29vZ2xlID0gc2NvcGUuZ29vZ2xlIHx8IHt9OwpzY29wZS5nb29nbGUuY29sYWIgPSBzY29wZS5nb29nbGUuY29sYWIgfHwge307CnNjb3BlLmdvb2dsZS5jb2xhYi5fZmlsZXMgPSB7CiAgX3VwbG9hZEZpbGVzLAogIF91cGxvYWRGaWxlc0NvbnRpbnVlLAp9Owp9KShzZWxmKTsK",
              "ok": true,
              "headers": [
                [
                  "content-type",
                  "application/javascript"
                ]
              ],
              "status": 200,
              "status_text": ""
            }
          },
          "base_uri": "https://localhost:8080/",
          "height": 72
        },
        "outputId": "7c4075b9-dcab-4326-8b8f-691b846ec024"
      },
      "source": [
        "from google.colab import files\n",
        "uploaded = files.upload()"
      ],
      "execution_count": null,
      "outputs": [
        {
          "output_type": "display_data",
          "data": {
            "text/html": [
              "\n",
              "     <input type=\"file\" id=\"files-3da89f23-017b-4f35-a5a6-44fa5c5b5bfd\" name=\"files[]\" multiple disabled\n",
              "        style=\"border:none\" />\n",
              "     <output id=\"result-3da89f23-017b-4f35-a5a6-44fa5c5b5bfd\">\n",
              "      Upload widget is only available when the cell has been executed in the\n",
              "      current browser session. Please rerun this cell to enable.\n",
              "      </output>\n",
              "      <script src=\"/nbextensions/google.colab/files.js\"></script> "
            ],
            "text/plain": [
              "<IPython.core.display.HTML object>"
            ]
          },
          "metadata": {
            "tags": []
          }
        },
        {
          "output_type": "stream",
          "text": [
            "Saving AAPL.csv to AAPL (1).csv\n"
          ],
          "name": "stdout"
        }
      ]
    },
    {
      "cell_type": "code",
      "metadata": {
        "id": "FhFrN_XTa71m",
        "colab_type": "code",
        "colab": {
          "base_uri": "https://localhost:8080/",
          "height": 204
        },
        "outputId": "8dfb1c98-1e8c-406c-f0a5-07e08f5a6649"
      },
      "source": [
        "#storing the stock price data into a dataframe\n",
        "df = pd.read_csv('AAPL.csv')\n",
        "df.head()"
      ],
      "execution_count": null,
      "outputs": [
        {
          "output_type": "execute_result",
          "data": {
            "text/html": [
              "<div>\n",
              "<style scoped>\n",
              "    .dataframe tbody tr th:only-of-type {\n",
              "        vertical-align: middle;\n",
              "    }\n",
              "\n",
              "    .dataframe tbody tr th {\n",
              "        vertical-align: top;\n",
              "    }\n",
              "\n",
              "    .dataframe thead th {\n",
              "        text-align: right;\n",
              "    }\n",
              "</style>\n",
              "<table border=\"1\" class=\"dataframe\">\n",
              "  <thead>\n",
              "    <tr style=\"text-align: right;\">\n",
              "      <th></th>\n",
              "      <th>Date</th>\n",
              "      <th>Open</th>\n",
              "      <th>High</th>\n",
              "      <th>Low</th>\n",
              "      <th>Close</th>\n",
              "      <th>Adj Close</th>\n",
              "      <th>Volume</th>\n",
              "    </tr>\n",
              "  </thead>\n",
              "  <tbody>\n",
              "    <tr>\n",
              "      <th>0</th>\n",
              "      <td>2019-08-05</td>\n",
              "      <td>197.990005</td>\n",
              "      <td>198.649994</td>\n",
              "      <td>192.580002</td>\n",
              "      <td>193.339996</td>\n",
              "      <td>191.059784</td>\n",
              "      <td>52393000</td>\n",
              "    </tr>\n",
              "    <tr>\n",
              "      <th>1</th>\n",
              "      <td>2019-08-06</td>\n",
              "      <td>196.309998</td>\n",
              "      <td>198.070007</td>\n",
              "      <td>194.039993</td>\n",
              "      <td>197.000000</td>\n",
              "      <td>194.676620</td>\n",
              "      <td>35824800</td>\n",
              "    </tr>\n",
              "    <tr>\n",
              "      <th>2</th>\n",
              "      <td>2019-08-07</td>\n",
              "      <td>195.410004</td>\n",
              "      <td>199.559998</td>\n",
              "      <td>193.820007</td>\n",
              "      <td>199.039993</td>\n",
              "      <td>196.692566</td>\n",
              "      <td>33364400</td>\n",
              "    </tr>\n",
              "    <tr>\n",
              "      <th>3</th>\n",
              "      <td>2019-08-08</td>\n",
              "      <td>200.199997</td>\n",
              "      <td>203.529999</td>\n",
              "      <td>199.389999</td>\n",
              "      <td>203.429993</td>\n",
              "      <td>201.030792</td>\n",
              "      <td>27009500</td>\n",
              "    </tr>\n",
              "    <tr>\n",
              "      <th>4</th>\n",
              "      <td>2019-08-09</td>\n",
              "      <td>201.300003</td>\n",
              "      <td>202.759995</td>\n",
              "      <td>199.289993</td>\n",
              "      <td>200.990005</td>\n",
              "      <td>199.374222</td>\n",
              "      <td>24619700</td>\n",
              "    </tr>\n",
              "  </tbody>\n",
              "</table>\n",
              "</div>"
            ],
            "text/plain": [
              "         Date        Open        High  ...       Close   Adj Close    Volume\n",
              "0  2019-08-05  197.990005  198.649994  ...  193.339996  191.059784  52393000\n",
              "1  2019-08-06  196.309998  198.070007  ...  197.000000  194.676620  35824800\n",
              "2  2019-08-07  195.410004  199.559998  ...  199.039993  196.692566  33364400\n",
              "3  2019-08-08  200.199997  203.529999  ...  203.429993  201.030792  27009500\n",
              "4  2019-08-09  201.300003  202.759995  ...  200.990005  199.374222  24619700\n",
              "\n",
              "[5 rows x 7 columns]"
            ]
          },
          "metadata": {
            "tags": []
          },
          "execution_count": 67
        }
      ]
    },
    {
      "cell_type": "code",
      "metadata": {
        "id": "O_QjUAbRbOue",
        "colab_type": "code",
        "colab": {
          "base_uri": "https://localhost:8080/",
          "height": 34
        },
        "outputId": "78d000f3-12e2-4439-bdf6-a9fe0f6b2c08"
      },
      "source": [
        "#Get the number of trading days\n",
        "df.shape"
      ],
      "execution_count": null,
      "outputs": [
        {
          "output_type": "execute_result",
          "data": {
            "text/plain": [
              "(253, 7)"
            ]
          },
          "metadata": {
            "tags": []
          },
          "execution_count": 68
        }
      ]
    },
    {
      "cell_type": "code",
      "metadata": {
        "id": "Z4L4hQ2Bd_U_",
        "colab_type": "code",
        "colab": {
          "base_uri": "https://localhost:8080/",
          "height": 54
        },
        "outputId": "773762ea-4d33-45b1-a6fe-ef548e684bd0"
      },
      "source": [
        "df.columns"
      ],
      "execution_count": null,
      "outputs": [
        {
          "output_type": "execute_result",
          "data": {
            "text/plain": [
              "Index(['Date', 'Open', 'High', 'Low', 'Close', 'Adj Close', 'Volume'], dtype='object')"
            ]
          },
          "metadata": {
            "tags": []
          },
          "execution_count": 69
        }
      ]
    },
    {
      "cell_type": "code",
      "metadata": {
        "id": "gTgZ0ln4baEw",
        "colab_type": "code",
        "colab": {
          "base_uri": "https://localhost:8080/",
          "height": 347
        },
        "outputId": "924f1d83-2736-4ad3-e73f-be32b86b7aa8"
      },
      "source": [
        "#Visualize the close price data\n",
        "plt.figure(figsize = (16,8))\n",
        "plt.title('Apple')\n",
        "plt.xlabel('Days')\n",
        "plt.ylabel('Close Price USD ($)')\n",
        "plt.plot(df['Close'])\n",
        "plt.show()"
      ],
      "execution_count": null,
      "outputs": [
        {
          "output_type": "display_data",
          "data": {
            "image/png": "[encoded data removed]",
            "text/plain": [
              "<Figure size 1152x576 with 1 Axes>"
            ]
          },
          "metadata": {
            "tags": [],
            "needs_background": "light"
          }
        }
      ]
    },
    {
      "cell_type": "code",
      "metadata": {
        "id": "3JxCB7_VcVZr",
        "colab_type": "code",
        "colab": {
          "base_uri": "https://localhost:8080/",
          "height": 173
        },
        "outputId": "880d287d-ac57-4545-e7ab-c0e47421d323"
      },
      "source": [
        "# Get the close price \n",
        "df = df[['Close']]\n",
        "df.head(4)"
      ],
      "execution_count": null,
      "outputs": [
        {
          "output_type": "execute_result",
          "data": {
            "text/html": [
              "<div>\n",
              "<style scoped>\n",
              "    .dataframe tbody tr th:only-of-type {\n",
              "        vertical-align: middle;\n",
              "    }\n",
              "\n",
              "    .dataframe tbody tr th {\n",
              "        vertical-align: top;\n",
              "    }\n",
              "\n",
              "    .dataframe thead th {\n",
              "        text-align: right;\n",
              "    }\n",
              "</style>\n",
              "<table border=\"1\" class=\"dataframe\">\n",
              "  <thead>\n",
              "    <tr style=\"text-align: right;\">\n",
              "      <th></th>\n",
              "      <th>Close</th>\n",
              "    </tr>\n",
              "  </thead>\n",
              "  <tbody>\n",
              "    <tr>\n",
              "      <th>0</th>\n",
              "      <td>193.339996</td>\n",
              "    </tr>\n",
              "    <tr>\n",
              "      <th>1</th>\n",
              "      <td>197.000000</td>\n",
              "    </tr>\n",
              "    <tr>\n",
              "      <th>2</th>\n",
              "      <td>199.039993</td>\n",
              "    </tr>\n",
              "    <tr>\n",
              "      <th>3</th>\n",
              "      <td>203.429993</td>\n",
              "    </tr>\n",
              "  </tbody>\n",
              "</table>\n",
              "</div>"
            ],
            "text/plain": [
              "        Close\n",
              "0  193.339996\n",
              "1  197.000000\n",
              "2  199.039993\n",
              "3  203.429993"
            ]
          },
          "metadata": {
            "tags": []
          },
          "execution_count": 71
        }
      ]
    },
    {
      "cell_type": "code",
      "metadata": {
        "id": "dDt0RSaEcfQ0",
        "colab_type": "code",
        "colab": {
          "base_uri": "https://localhost:8080/",
          "height": 173
        },
        "outputId": "4fdd9d93-e86b-44fa-f992-880b20d06203"
      },
      "source": [
        "#Create a variable to predict 'x' days out into the future\n",
        "future_days = 25 \n",
        "#Create a new column(target) shifted 'x' units/days up \n",
        "df['Prediction'] = df[['Close']].shift(-future_days)\n",
        "df.head(4)"
      ],
      "execution_count": null,
      "outputs": [
        {
          "output_type": "execute_result",
          "data": {
            "text/html": [
              "<div>\n",
              "<style scoped>\n",
              "    .dataframe tbody tr th:only-of-type {\n",
              "        vertical-align: middle;\n",
              "    }\n",
              "\n",
              "    .dataframe tbody tr th {\n",
              "        vertical-align: top;\n",
              "    }\n",
              "\n",
              "    .dataframe thead th {\n",
              "        text-align: right;\n",
              "    }\n",
              "</style>\n",
              "<table border=\"1\" class=\"dataframe\">\n",
              "  <thead>\n",
              "    <tr style=\"text-align: right;\">\n",
              "      <th></th>\n",
              "      <th>Close</th>\n",
              "      <th>Prediction</th>\n",
              "    </tr>\n",
              "  </thead>\n",
              "  <tbody>\n",
              "    <tr>\n",
              "      <th>0</th>\n",
              "      <td>193.339996</td>\n",
              "      <td>216.699997</td>\n",
              "    </tr>\n",
              "    <tr>\n",
              "      <th>1</th>\n",
              "      <td>197.000000</td>\n",
              "      <td>223.589996</td>\n",
              "    </tr>\n",
              "    <tr>\n",
              "      <th>2</th>\n",
              "      <td>199.039993</td>\n",
              "      <td>223.089996</td>\n",
              "    </tr>\n",
              "    <tr>\n",
              "      <th>3</th>\n",
              "      <td>203.429993</td>\n",
              "      <td>218.750000</td>\n",
              "    </tr>\n",
              "  </tbody>\n",
              "</table>\n",
              "</div>"
            ],
            "text/plain": [
              "        Close  Prediction\n",
              "0  193.339996  216.699997\n",
              "1  197.000000  223.589996\n",
              "2  199.039993  223.089996\n",
              "3  203.429993  218.750000"
            ]
          },
          "metadata": {
            "tags": []
          },
          "execution_count": 73
        }
      ]
    },
    {
      "cell_type": "code",
      "metadata": {
        "id": "GAJPZLpXfCWA",
        "colab_type": "code",
        "colab": {
          "base_uri": "https://localhost:8080/",
          "height": 1000
        },
        "outputId": "0f24f752-365f-4ab0-e7b7-202b37570e28"
      },
      "source": [
        "# create the feature data set (X) and convert it to a numpy array and remove the last 'X' rows/days\n",
        "X = np.array(df.drop(['Prediction'], 1))[:-future_days]\n",
        "print(X)"
      ],
      "execution_count": null,
      "outputs": [
        {
          "output_type": "stream",
          "text": [
            "[[193.339996]\n",
            " [197.      ]\n",
            " [199.039993]\n",
            " [203.429993]\n",
            " [200.990005]\n",
            " [200.479996]\n",
            " [208.970001]\n",
            " [202.75    ]\n",
            " [201.740005]\n",
            " [206.5     ]\n",
            " [210.350006]\n",
            " [210.360001]\n",
            " [212.639999]\n",
            " [212.460007]\n",
            " [202.639999]\n",
            " [206.490005]\n",
            " [204.160004]\n",
            " [205.529999]\n",
            " [209.009995]\n",
            " [208.740005]\n",
            " [205.699997]\n",
            " [209.190002]\n",
            " [213.279999]\n",
            " [213.259995]\n",
            " [214.169998]\n",
            " [216.699997]\n",
            " [223.589996]\n",
            " [223.089996]\n",
            " [218.75    ]\n",
            " [219.899994]\n",
            " [220.699997]\n",
            " [222.770004]\n",
            " [220.960007]\n",
            " [217.729996]\n",
            " [218.720001]\n",
            " [217.679993]\n",
            " [221.029999]\n",
            " [219.889999]\n",
            " [218.820007]\n",
            " [223.970001]\n",
            " [224.589996]\n",
            " [218.960007]\n",
            " [220.820007]\n",
            " [227.009995]\n",
            " [227.059998]\n",
            " [224.399994]\n",
            " [227.029999]\n",
            " [230.089996]\n",
            " [236.210007]\n",
            " [235.869995]\n",
            " [235.320007]\n",
            " [234.369995]\n",
            " [235.279999]\n",
            " [236.410004]\n",
            " [240.509995]\n",
            " [239.960007]\n",
            " [243.179993]\n",
            " [243.580002]\n",
            " [246.580002]\n",
            " [249.050003]\n",
            " [243.289993]\n",
            " [243.259995]\n",
            " [248.759995]\n",
            " [255.820007]\n",
            " [257.5     ]\n",
            " [257.130005]\n",
            " [257.23999 ]\n",
            " [259.429993]\n",
            " [260.140015]\n",
            " [262.200012]\n",
            " [261.959991]\n",
            " [264.470001]\n",
            " [262.640015]\n",
            " [265.76001 ]\n",
            " [267.100006]\n",
            " [266.290009]\n",
            " [263.190002]\n",
            " [262.01001 ]\n",
            " [261.779999]\n",
            " [266.369995]\n",
            " [264.290009]\n",
            " [267.839996]\n",
            " [267.25    ]\n",
            " [264.160004]\n",
            " [259.450012]\n",
            " [261.73999 ]\n",
            " [265.579987]\n",
            " [270.709991]\n",
            " [266.920013]\n",
            " [268.480011]\n",
            " [270.769989]\n",
            " [271.459991]\n",
            " [275.149994]\n",
            " [279.859985]\n",
            " [280.410004]\n",
            " [279.73999 ]\n",
            " [280.019989]\n",
            " [279.440002]\n",
            " [284.      ]\n",
            " [284.269989]\n",
            " [289.910004]\n",
            " [289.799988]\n",
            " [291.519989]\n",
            " [293.649994]\n",
            " [300.350006]\n",
            " [297.429993]\n",
            " [299.799988]\n",
            " [298.390015]\n",
            " [303.190002]\n",
            " [309.630005]\n",
            " [310.329987]\n",
            " [316.959991]\n",
            " [312.679993]\n",
            " [311.339996]\n",
            " [315.23999 ]\n",
            " [318.730011]\n",
            " [316.570007]\n",
            " [317.700012]\n",
            " [319.230011]\n",
            " [318.309998]\n",
            " [308.950012]\n",
            " [317.690002]\n",
            " [324.339996]\n",
            " [323.869995]\n",
            " [309.51001 ]\n",
            " [308.660004]\n",
            " [318.850006]\n",
            " [321.450012]\n",
            " [325.209991]\n",
            " [320.029999]\n",
            " [321.549988]\n",
            " [319.609985]\n",
            " [327.200012]\n",
            " [324.869995]\n",
            " [324.950012]\n",
            " [319.      ]\n",
            " [323.619995]\n",
            " [320.299988]\n",
            " [313.049988]\n",
            " [298.179993]\n",
            " [288.079987]\n",
            " [292.649994]\n",
            " [273.519989]\n",
            " [273.359985]\n",
            " [298.809998]\n",
            " [289.320007]\n",
            " [302.73999 ]\n",
            " [292.920013]\n",
            " [289.029999]\n",
            " [266.170013]\n",
            " [285.339996]\n",
            " [275.429993]\n",
            " [248.229996]\n",
            " [277.970001]\n",
            " [242.210007]\n",
            " [252.860001]\n",
            " [246.669998]\n",
            " [244.779999]\n",
            " [229.240005]\n",
            " [224.369995]\n",
            " [246.880005]\n",
            " [245.520004]\n",
            " [258.440002]\n",
            " [247.740005]\n",
            " [254.809998]\n",
            " [254.289993]\n",
            " [240.910004]\n",
            " [244.929993]\n",
            " [241.410004]\n",
            " [262.470001]\n",
            " [259.429993]\n",
            " [266.070007]\n",
            " [267.98999 ]\n",
            " [273.25    ]\n",
            " [287.049988]\n",
            " [284.429993]\n",
            " [286.690002]\n",
            " [282.799988]\n",
            " [276.929993]\n",
            " [268.369995]\n",
            " [276.100006]\n",
            " [275.029999]\n",
            " [282.970001]\n",
            " [283.170013]\n",
            " [278.579987]\n",
            " [287.730011]\n",
            " [293.799988]\n",
            " [289.070007]\n",
            " [293.160004]\n",
            " [297.559998]\n",
            " [300.630005]\n",
            " [303.73999 ]\n",
            " [310.130005]\n",
            " [315.01001 ]\n",
            " [311.410004]\n",
            " [307.649994]\n",
            " [309.540009]\n",
            " [307.709991]\n",
            " [314.959991]\n",
            " [313.140015]\n",
            " [319.230011]\n",
            " [316.850006]\n",
            " [318.890015]\n",
            " [316.730011]\n",
            " [318.109985]\n",
            " [318.25    ]\n",
            " [317.940002]\n",
            " [321.850006]\n",
            " [323.339996]\n",
            " [325.119995]\n",
            " [322.320007]\n",
            " [331.5     ]\n",
            " [333.459991]\n",
            " [343.98999 ]\n",
            " [352.839996]\n",
            " [335.899994]\n",
            " [338.799988]\n",
            " [342.98999 ]\n",
            " [352.079987]\n",
            " [351.589996]\n",
            " [351.730011]\n",
            " [349.720001]\n",
            " [358.869995]\n",
            " [366.529999]\n",
            " [360.059998]\n",
            " [364.839996]\n",
            " [353.630005]\n",
            " [361.779999]]\n"
          ],
          "name": "stdout"
        }
      ]
    },
    {
      "cell_type": "code",
      "metadata": {
        "id": "6_O9VFg4dIQS",
        "colab_type": "code",
        "colab": {
          "base_uri": "https://localhost:8080/",
          "height": 663
        },
        "outputId": "8479e7a1-8047-4c30-d706-000bf5828195"
      },
      "source": [
        "#create the target data set(y) and convert it to a numpy array and get all of the target values except the last 'x' rows\n",
        "y = np.array(df['Prediction'])[:-future_days]\n",
        "print(y)"
      ],
      "execution_count": null,
      "outputs": [
        {
          "output_type": "stream",
          "text": [
            "[216.699997 223.589996 223.089996 218.75     219.899994 220.699997\n",
            " 222.770004 220.960007 217.729996 218.720001 217.679993 221.029999\n",
            " 219.889999 218.820007 223.970001 224.589996 218.960007 220.820007\n",
            " 227.009995 227.059998 224.399994 227.029999 230.089996 236.210007\n",
            " 235.869995 235.320007 234.369995 235.279999 236.410004 240.509995\n",
            " 239.960007 243.179993 243.580002 246.580002 249.050003 243.289993\n",
            " 243.259995 248.759995 255.820007 257.5      257.130005 257.23999\n",
            " 259.429993 260.140015 262.200012 261.959991 264.470001 262.640015\n",
            " 265.76001  267.100006 266.290009 263.190002 262.01001  261.779999\n",
            " 266.369995 264.290009 267.839996 267.25     264.160004 259.450012\n",
            " 261.73999  265.579987 270.709991 266.920013 268.480011 270.769989\n",
            " 271.459991 275.149994 279.859985 280.410004 279.73999  280.019989\n",
            " 279.440002 284.       284.269989 289.910004 289.799988 291.519989\n",
            " 293.649994 300.350006 297.429993 299.799988 298.390015 303.190002\n",
            " 309.630005 310.329987 316.959991 312.679993 311.339996 315.23999\n",
            " 318.730011 316.570007 317.700012 319.230011 318.309998 308.950012\n",
            " 317.690002 324.339996 323.869995 309.51001  308.660004 318.850006\n",
            " 321.450012 325.209991 320.029999 321.549988 319.609985 327.200012\n",
            " 324.869995 324.950012 319.       323.619995 320.299988 313.049988\n",
            " 298.179993 288.079987 292.649994 273.519989 273.359985 298.809998\n",
            " 289.320007 302.73999  292.920013 289.029999 266.170013 285.339996\n",
            " 275.429993 248.229996 277.970001 242.210007 252.860001 246.669998\n",
            " 244.779999 229.240005 224.369995 246.880005 245.520004 258.440002\n",
            " 247.740005 254.809998 254.289993 240.910004 244.929993 241.410004\n",
            " 262.470001 259.429993 266.070007 267.98999  273.25     287.049988\n",
            " 284.429993 286.690002 282.799988 276.929993 268.369995 276.100006\n",
            " 275.029999 282.970001 283.170013 278.579987 287.730011 293.799988\n",
            " 289.070007 293.160004 297.559998 300.630005 303.73999  310.130005\n",
            " 315.01001  311.410004 307.649994 309.540009 307.709991 314.959991\n",
            " 313.140015 319.230011 316.850006 318.890015 316.730011 318.109985\n",
            " 318.25     317.940002 321.850006 323.339996 325.119995 322.320007\n",
            " 331.5      333.459991 343.98999  352.839996 335.899994 338.799988\n",
            " 342.98999  352.079987 351.589996 351.730011 349.720001 358.869995\n",
            " 366.529999 360.059998 364.839996 353.630005 361.779999 364.799988\n",
            " 364.109985 364.109985 373.850006 372.690002 381.369995 383.01001\n",
            " 383.679993 381.910004 388.230011 390.899994 386.089996 385.309998\n",
            " 393.429993 388.       389.089996 371.380005 370.459991 379.23999\n",
            " 373.01001  380.160004 384.76001  425.040009 435.75     438.660004]\n"
          ],
          "name": "stdout"
        }
      ]
    },
    {
      "cell_type": "code",
      "metadata": {
        "id": "GneK_gkgjLbY",
        "colab_type": "code",
        "colab": {}
      },
      "source": [
        "#Split the data into 75% training and 25% testing\n",
        "x_train, x_test, y_train, y_test = train_test_split(X,y, test_size = 0.25)"
      ],
      "execution_count": null,
      "outputs": []
    },
    {
      "cell_type": "code",
      "metadata": {
        "id": "-zyEi5cYjZKX",
        "colab_type": "code",
        "colab": {}
      },
      "source": [
        "#Create the models \n",
        "#Create the decision tree regressor model \n",
        "tree = DecisionTreeRegressor().fit(x_train, y_train)\n",
        "#Create the linear regression model \n",
        "lr = LinearRegression().fit(x_train, y_train)"
      ],
      "execution_count": null,
      "outputs": []
    },
    {
      "cell_type": "code",
      "metadata": {
        "id": "VV6tExjXjmw8",
        "colab_type": "code",
        "colab": {
          "base_uri": "https://localhost:8080/",
          "height": 442
        },
        "outputId": "d52f97f5-9b77-47a7-f98d-e2c18940590b"
      },
      "source": [
        "#get the last 'x rows of the feature data set\n",
        "x_future = df.drop([\"Prediction\"], 1)[-future_days:]\n",
        "x_future = x_future.tail(future_days)\n",
        "x_future = np.array(x_future)\n",
        "x_future "
      ],
      "execution_count": null,
      "outputs": [
        {
          "output_type": "execute_result",
          "data": {
            "text/plain": [
              "array([[364.799988],\n",
              "       [364.109985],\n",
              "       [364.109985],\n",
              "       [373.850006],\n",
              "       [372.690002],\n",
              "       [381.369995],\n",
              "       [383.01001 ],\n",
              "       [383.679993],\n",
              "       [381.910004],\n",
              "       [388.230011],\n",
              "       [390.899994],\n",
              "       [386.089996],\n",
              "       [385.309998],\n",
              "       [393.429993],\n",
              "       [388.      ],\n",
              "       [389.089996],\n",
              "       [371.380005],\n",
              "       [370.459991],\n",
              "       [379.23999 ],\n",
              "       [373.01001 ],\n",
              "       [380.160004],\n",
              "       [384.76001 ],\n",
              "       [425.040009],\n",
              "       [435.75    ],\n",
              "       [438.660004]])"
            ]
          },
          "metadata": {
            "tags": []
          },
          "execution_count": 88
        }
      ]
    },
    {
      "cell_type": "code",
      "metadata": {
        "id": "zuHLhGc4kC3H",
        "colab_type": "code",
        "colab": {
          "base_uri": "https://localhost:8080/",
          "height": 204
        },
        "outputId": "fb21531e-210e-49bb-86e7-a3f352f1b278"
      },
      "source": [
        "#Show the model tree prediction \n",
        "tree_prediction = tree.predict(x_future)\n",
        "print(tree_prediction)\n",
        "print()\n",
        "#show the model linear regression prediction\n",
        "lr_prediction = lr.predict(x_future)\n",
        "print(lr_prediction)"
      ],
      "execution_count": null,
      "outputs": [
        {
          "output_type": "stream",
          "text": [
            "[425.040009 425.040009 425.040009 380.160004 380.160004 380.160004\n",
            " 380.160004 380.160004 380.160004 380.160004 380.160004 380.160004\n",
            " 380.160004 380.160004 380.160004 380.160004 380.160004 380.160004\n",
            " 380.160004 380.160004 380.160004 380.160004 380.160004 380.160004\n",
            " 380.160004]\n",
            "\n",
            "[365.3698246  364.8036194  364.8036194  372.79612161 371.84424126\n",
            " 378.9669018  380.31267133 380.86244844 379.41002437 384.59611893\n",
            " 386.78706338 382.84005756 382.20000393 388.86313926 384.40737566\n",
            " 385.30180858 370.76927912 370.01433065 377.21905448 372.1068346\n",
            " 377.97400294 381.74869276 414.80180229 423.59024604 425.97814781]\n"
          ],
          "name": "stdout"
        }
      ]
    },
    {
      "cell_type": "code",
      "metadata": {
        "id": "WF9Gz3WSkdA9",
        "colab_type": "code",
        "colab": {
          "base_uri": "https://localhost:8080/",
          "height": 469
        },
        "outputId": "b1438d48-d5a4-4da8-d9a5-8bdf264b50e6"
      },
      "source": [
        "#visualize the data \n",
        "predictions = lr_prediction\n",
        "\n",
        "valid = df[X.shape[0]:]\n",
        "valid['Predictions'] = predictions\n",
        "plt.figure(figsize=(16,8))\n",
        "plt.title('Model')\n",
        "plt.xlabel('Days')\n",
        "plt.ylabel('Close Price USD ($)')\n",
        "plt.plot(df['Close'])\n",
        "plt.plot(valid[['Close', 'Predictions']])\n",
        "plt.legend(['Orig', 'Val', 'Pred'])\n",
        "plt.show()"
      ],
      "execution_count": null,
      "outputs": [
        {
          "output_type": "stream",
          "text": [
            "/usr/local/lib/python3.6/dist-packages/ipykernel_launcher.py:5: SettingWithCopyWarning: \n",
            "A value is trying to be set on a copy of a slice from a DataFrame.\n",
            "Try using .loc[row_indexer,col_indexer] = value instead\n",
            "\n",
            "See the caveats in the documentation: https://pandas.pydata.org/pandas-docs/stable/user_guide/indexing.html#returning-a-view-versus-a-copy\n",
            "  \"\"\"\n"
          ],
          "name": "stderr"
        },
        {
          "output_type": "display_data",
          "data": {
            "image/png": "[encoded data removed]",
            "text/plain": [
              "<Figure size 1152x576 with 1 Axes>"
            ]
          },
          "metadata": {
            "tags": [],
            "needs_background": "light"
          }
        }
      ]
    },
    {
      "cell_type": "markdown",
      "metadata": {
        "id": "XQQuvGpdcaFL",
        "colab_type": "text"
      },
      "source": [
        ""
      ]
    }
  ]
}